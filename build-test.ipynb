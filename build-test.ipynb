{
 "cells": [
  {
   "cell_type": "markdown",
   "id": "11d06d53-b8d9-4883-806f-d448407972de",
   "metadata": {},
   "source": [
    "# Build test notebook\n",
    "\n",
    "This notebook is a test notebook for building a model for magnetic mean field simulation in Pencil code."
   ]
  },
  {
   "cell_type": "code",
   "execution_count": 1,
   "id": "manual-middle",
   "metadata": {},
   "outputs": [],
   "source": [
    "# Load autoreload extension for easier development of source code\n",
    "%load_ext autoreload\n",
    "%autoreload 2"
   ]
  },
  {
   "cell_type": "markdown",
   "id": "f4e829c4-1bb8-415c-a5e0-2b615af98904",
   "metadata": {},
   "source": [
    "## Building isotropic_alpha-example"
   ]
  },
  {
   "cell_type": "code",
   "execution_count": 2,
   "id": "13689481-5ef6-4889-b35a-46f738443459",
   "metadata": {},
   "outputs": [],
   "source": [
    "# Copy isotropic alpha sample from $PENCIL_HOME\n",
    "!cp -r $PENCIL_HOME/samples/meanfield_special_e_tensor/isotropic_alpha isotropic_alpha"
   ]
  },
  {
   "cell_type": "code",
   "execution_count": 3,
   "id": "864a7694-9289-4fba-91d0-4ce0041fd26d",
   "metadata": {},
   "outputs": [
    {
     "name": "stdout",
     "output_type": "stream",
     "text": [
      "Files will be linked to the root code directory '/u/59/tuomiss1/unix/resolve/pencil-dask/pencil-code'.\n",
      "Linking job submission/execution scripts.\n",
      "Linked root Makefile.\n",
      "Linking files in '/u/59/tuomiss1/unix/resolve/pencil-dask/isotropic_alpha/src'.\n",
      "No such file: /u/59/tuomiss1/unix/resolve/pencil-dask/pencil-code/src/Makefile.machine\n",
      "No such file: /u/59/tuomiss1/unix/resolve/pencil-dask/pencil-code/src/.cvsignore\n",
      "No pre_and_post_processing directory found: creating new one (/u/59/tuomiss1/unix/resolve/pencil-dask/isotropic_alpha/src/pre_and_post_processing).\n",
      "Linking files in '/u/59/tuomiss1/unix/resolve/pencil-dask/isotropic_alpha/src/pre_and_post_processing'.\n",
      "No magnetic directory found: creating new one (/u/59/tuomiss1/unix/resolve/pencil-dask/isotropic_alpha/src/magnetic).\n",
      "Linking files in '/u/59/tuomiss1/unix/resolve/pencil-dask/isotropic_alpha/src/magnetic'.\n",
      "No special directory found: creating new one (/u/59/tuomiss1/unix/resolve/pencil-dask/isotropic_alpha/src/special).\n",
      "Linking files in '/u/59/tuomiss1/unix/resolve/pencil-dask/isotropic_alpha/src/special'.\n",
      "Rebuilding Makefile from Makefile.src.\n"
     ]
    }
   ],
   "source": [
    "# Run pc_setupsrc\n",
    "!cd isotropic_alpha && pc_setupsrc"
   ]
  },
  {
   "cell_type": "code",
   "execution_count": 4,
   "id": "b5fd5a7f-3c5a-441a-a0b8-d816354179a5",
   "metadata": {},
   "outputs": [],
   "source": [
    "# Fix a bug in the example\n",
    "!sed -i 's/FILE_IO.*/FILE_IO = file_io_dist/g' isotropic_alpha/src/Makefile.local"
   ]
  },
  {
   "cell_type": "code",
   "execution_count": 5,
   "id": "1ac91752-4049-43ae-8ea8-5db6d2faa2f0",
   "metadata": {},
   "outputs": [
    {
     "name": "stdout",
     "output_type": "stream",
     "text": [
      "Found config file </u/59/tuomiss1/unix/resolve/pencil-dask/pencil-code/config/compilers/GNU-GCC_MPI.conf>\n",
      "Running make '-j' 'FFLAGS_DOUBLE=-fdefault-real-8 -fdefault-double-8' 'CFLAGS_DOUBLE=-DDOUBLE_PRECISION' 'LD_MPI=' 'CFLAGS_FFTW3=' 'FFLAGS_FFTW3=' 'LD_FFTW3=' 'CFLAGS_FFTW2=' 'FFLAGS_FFTW2=' 'LD_FFTW2=' 'FC=mpif90' 'F77=mpif77' 'FFLAGS=-O' 'LDFLAGS_HELPER=-dynamic' 'FSTD_95=-std=f95' 'FSTD_2003=-std=f2003' 'CC=mpicc' 'CFLAGS=-DFUNDERSC=1' 'default_to_be'\n",
      "MAKING src/Makefile.inc\n",
      "precision-check: No such file src/.current-precision -- creating new one at ./src/scripts/precision-check line 36.\n",
      "touch src/.build-history\n",
      "echo tuomiss1\"@\"`hostname` \"(\"`date`\")\" >> src/.build-history\n",
      "( cd src && \\\n",
      "  echo \"===== \" make FROM_PARENT=src/ -f Makefile.src code \"=====\"; \\\n",
      "  make FROM_PARENT=src/ -f Makefile.src default_to_be \\\n",
      ")\n",
      "=====  make FROM_PARENT=src/ -f Makefile.src code =====\n",
      "make[1]: Entering directory '/u/59/tuomiss1/unix/resolve/pencil-dask/isotropic_alpha/src'\n",
      "Compiler: x86_64-conda-linux-gnu-gfortran\n",
      "scripts/mkcparam -b noborder_profiles.f90 nochemistry.f90 nochiral.f90 nocosmicray.f90 nocosmicrayflux.f90 nodensity.f90 deriv.f90 nodetonate.f90 nodustdensity.f90 nodustvelocity.f90 noentropy.f90 noeos.f90 nofixed_point.f90 noforcing.f90 nogravity.f90 nogpu.f90 grid.f90 noheatflux.f90 nohydro.f90 nohyperresi_strict.f90 nohypervisc_strict.f90 noimplicit_diffusion.f90 noimplicit_physics.f90 noinitial_condition.f90 nointerstellar.f90 nolorenz_gauge.f90 magnetic.f90 magnetic/nomeanfield.f90 magnetic/nomeanfield_demfdt.f90 noneutraldensity.f90 noneutralvelocity.f90 noNSCBC.f90 noopacity.f90 noparticles.f90 noparticles_adaptation.f90 noparticles_coagulation.f90 noparticles_condensation.f90  noparticles_collisions.f90 noparticles_map.f90 noparticles_density.f90  noparticles_mass.f90 noparticles_number.f90 noparticles_radius.f90 noparticles_potential.f90 noparticles_grad.f90 noparticles_selfgravity.f90 noparticles_sink.f90 noparticles_drag.f90 noparticles_spin.f90 noparticles_stalker.f90 noparticles_lyapunov.f90 noparticles_caustics.f90 noparticles_tetrad.f90 noparticles_stirring.f90 noparticles_diagnos_dv.f90 noparticles_diagnos_state.f90 noparticles_persistence.f90 noparticles_temperature.f90 noparticles_adsorbed.f90 noparticles_surfspec.f90 noparticles_chemistry.f90 nopointmasses.f90 nopoisson.f90 nopolymer.f90 nopower_spectrum.f90 nopscalar.f90 noradiation.f90 noselfgravity.f90 noshear.f90 noshock.f90 nosignal_handling.f90 nosolid_cells.f90 noascalar.f90 nostreamlines.f90  notestfield.f90 notestflow.f90 notestscalar.f90 noviscosity.f90 cparam.local special/meanfield_e_tensor.f90\n",
      "${PENCIL_HOME}/utils/pc_identify_revision --reset\n",
      "HDF5 compiler and linker in /u/59/tuomiss1/unix/conda/envs/pencil-dask/bin/h5pfc.\n",
      "make -f Makefile.src  start.o run.o start.x run.x\n",
      "make[2]: Entering directory '/u/59/tuomiss1/unix/resolve/pencil-dask/isotropic_alpha/src'\n",
      "Compiler: x86_64-conda-linux-gnu-gfortran\n",
      "mpif90 -O -fdefault-real-8 -fdefault-double-8   -std=f95 -o cparam.o -c cparam.f90\n",
      "mpicc -DFUNDERSC=1 -DDOUBLE_PRECISION   -o syscalls_ansi.o -c syscalls_ansi.c\n",
      "sed -e 's/REAL/DOUBLE_PRECISION/g' -e 's/MPI_COMPLEX/MPI_DOUBLE_COMPLEX/g' mpicomm.f90 > mpicomm_double.f90\n",
      "scripts/mkdummyinc -d file_io_common.f90 -s file_io_dist.f90 -o file_io_common.inc\n",
      "mpif90   -O -fdefault-real-8 -fdefault-double-8 -c geometrical_types.f90 -o geometrical_types.o\n",
      "scripts/mkdummyinc -d nospecial.f90 -s special/meanfield_e_tensor.f90 -o special_dummies.inc\n",
      "mpif90 -O -fdefault-real-8 -fdefault-double-8    -std=f95 -o polynomialroots.o -c polynomialroots.f90\n",
      "mpicc -DFUNDERSC=1 -DDOUBLE_PRECISION   -o nogsl.o -c nogsl.c\n",
      "\u001b[01m\u001b[Kcparam_pencils.inc:485:0:\u001b[m\u001b[K\n",
      "\n",
      "  485 |    , 'jperp           ', 'cosub           ', 'bunit           ', 'hjj             '  &\n",
      "      | \n",
      "\u001b[01;35m\u001b[KWarning:\u001b[m\u001b[K Limit of 39 continuations exceeded in statement at (1)\n",
      "mpif90 -O -fdefault-real-8 -fdefault-double-8    -std=f95 -o cdata.o -c cdata.f90\n",
      "mpif90 -O -fdefault-real-8 -fdefault-double-8    -std=f95  -o syscalls.o -c syscalls.f90\n",
      "mpif90 -O -fdefault-real-8 -fdefault-double-8    -std=f95 -o particles_cdata.o -c particles_cdata.f90\n",
      "mpif90 -O -fdefault-real-8 -fdefault-double-8    -std=f95 -o general.o -c general.f90\n",
      "mpif90 -O -fdefault-real-8 -fdefault-double-8    -std=f95 -o noyinyang.o -c noyinyang.f90\n",
      "mpif90 -O -fdefault-real-8 -fdefault-double-8    -std=f95 -o slices_methods.o -c slices_methods.f90\n",
      "mpif90 -O -fdefault-real-8 -fdefault-double-8    -std=f95 -o noweno_transport.o -c noweno_transport.f90\n",
      "mpif90 -O -fdefault-real-8 -fdefault-double-8     -o mpicomm_double.o -c mpicomm_double.f90\n",
      "mpif90 -O -fdefault-real-8 -fdefault-double-8    -std=f95 -o messages.o -c messages.f90\n",
      "mpif90 -O -fdefault-real-8 -fdefault-double-8    -std=f95 -o ghost_check.o -c ghost_check.f90\n",
      "mpif90 -O -fdefault-real-8 -fdefault-double-8    -std=f95 -o nogpu.o -c nogpu.f90\n",
      "mpif90 -O -fdefault-real-8 -fdefault-double-8    -std=f95 -o nosolid_cells_mpicomm.o -c nosolid_cells_mpicomm.f90\n",
      "mpif90 -O -fdefault-real-8 -fdefault-double-8    -std=f95 -o deriv.o -c deriv.f90\n",
      "mpif90 -O -fdefault-real-8 -fdefault-double-8    -o file_io_dist.o -c file_io_dist.f90\n",
      "mpif90 -O -fdefault-real-8 -fdefault-double-8    -std=f95 -o noyinyang_mpi.o -c noyinyang_mpi.f90\n",
      "mpif90 -O -fdefault-real-8 -fdefault-double-8    -std=f95 -o shared_variables.o -c shared_variables.f90\n",
      "mpif90 -O -fdefault-real-8 -fdefault-double-8    -std=f95 -o debug_io_dist.o -c debug_io_dist.f90\n",
      "mpif90 -O -fdefault-real-8 -fdefault-double-8    -std=f95 -o noimplicit_diffusion.o -c noimplicit_diffusion.f90\n",
      "mpif90 -O -fdefault-real-8 -fdefault-double-8    -std=f95 -o nofarray_alloc.o -c nofarray_alloc.f90\n",
      "mpif90 -O -fdefault-real-8 -fdefault-double-8    -std=f95 -o nohdf5_io.o -c nohdf5_io.f90\n",
      "mpif90 -O -fdefault-real-8 -fdefault-double-8    -std=f95 -o farray.o -c farray.f90\n",
      "/bin/sh: 2: [: 1: unexpected operator\n",
      "mpif90 -O -fdefault-real-8 -fdefault-double-8    -o io_dist.o -c io_dist.f90\n",
      "mpif90 -O -fdefault-real-8 -fdefault-double-8    -std=f95 -o sub.o -c sub.f90\n",
      "mpif90 -O -fdefault-real-8 -fdefault-double-8    -std=f95 -o diagnostics.o -c diagnostics.f90\n",
      "mpif90 -O -fdefault-real-8 -fdefault-double-8    -std=f95 -o nofourier.o -c nofourier.f90\n",
      "mpif90 -O -fdefault-real-8 -fdefault-double-8    -std=f95 -o grid.o -c grid.f90\n",
      "mpif90 -O -fdefault-real-8 -fdefault-double-8    -std=f95 -o noborder_profiles.o -c noborder_profiles.f90\n",
      "mpif90 -O -fdefault-real-8 -fdefault-double-8    -std=f95 -o noshock.o -c noshock.f90\n",
      "mpif90 -O -fdefault-real-8 -fdefault-double-8    -std=f95 -o nolorenz_gauge.o -c nolorenz_gauge.f90\n",
      "mpif90 -O -fdefault-real-8 -fdefault-double-8    -std=f95 -o nodebug.o -c nodebug.f90\n",
      "mpif90 -O -fdefault-real-8 -fdefault-double-8    -std=f95 -o nostreamlines.o -c nostreamlines.f90\n",
      "mpif90 -O -fdefault-real-8 -fdefault-double-8    -std=f95 -o nosignal_handling.o -c nosignal_handling.f90\n",
      "mpif90 -O -fdefault-real-8 -fdefault-double-8    -std=f95 -o nofixed_point.o -c nofixed_point.f90\n",
      "mpif90 -O -fdefault-real-8 -fdefault-double-8    -std=f95 -o nopoisson.o -c nopoisson.f90\n",
      "mpif90 -O -fdefault-real-8 -fdefault-double-8    -std=f95 -o nohyperresi_strict.o -c nohyperresi_strict.f90\n",
      "mpif90 -O -fdefault-real-8 -fdefault-double-8    -std=f95 -o nohypervisc_strict.o -c nohypervisc_strict.f90\n",
      "mpif90 -O -fdefault-real-8 -fdefault-double-8    -std=f95 -o noghostfold.o -c noghostfold.f90\n",
      "mpif90 -O -fdefault-real-8 -fdefault-double-8    -std=f95 -o nodensity_methods.o -c nodensity_methods.f90\n",
      "mpif90 -O -fdefault-real-8 -fdefault-double-8    -std=f95 -o nogravity.o -c nogravity.f90\n",
      "mpif90 -O -fdefault-real-8 -fdefault-double-8    -std=f95 -o noinitial_condition.o -c noinitial_condition.f90\n",
      "mpif90 -O -fdefault-real-8 -fdefault-double-8    -std=f95 -o noshear.o -c noshear.f90\n",
      "mpif90 -O -fdefault-real-8 -fdefault-double-8    -std=f95 -o magnetic/nomeanfield_demfdt.o -c magnetic/nomeanfield_demfdt.f90\n",
      "mpif90 -O -fdefault-real-8 -fdefault-double-8    -std=f95 -o noopacity.o -c noopacity.f90\n",
      "mpif90 -O -fdefault-real-8 -fdefault-double-8    -std=f95 -o noparticles_main.o -c noparticles_main.f90\n",
      "mpif90 -O -fdefault-real-8 -fdefault-double-8    -o nostruct_func.o -c nostruct_func.f90\n",
      "mpif90 -O -fdefault-real-8 -fdefault-double-8    -std=f95 -o notimeavg.o -c notimeavg.f90\n",
      "mpif90 -O -fdefault-real-8 -fdefault-double-8    -std=f95 -o magnetic/nomeanfield.o -c magnetic/nomeanfield.f90\n",
      "mpif90 -O -fdefault-real-8 -fdefault-double-8    -std=f95 -o nopointmasses.o -c nopointmasses.f90\n",
      "ar: creating noparticles_main.a\n",
      "mpif90 -O -fdefault-real-8 -fdefault-double-8    -std=f95 -o noeos.o -c noeos.f90\n",
      "mpif90 -O -fdefault-real-8 -fdefault-double-8    -std=f95 -o initcond.o -c initcond.f90\n",
      "mpif90 -O -fdefault-real-8 -fdefault-double-8    -std=f95 -o nointerstellar.o -c nointerstellar.f90\n",
      "mpif90 -O -fdefault-real-8 -fdefault-double-8    -std=f95 -o noheatflux.o -c noheatflux.f90\n",
      "mpif90 -O -fdefault-real-8 -fdefault-double-8    -std=f95 -o noselfgravity.o -c noselfgravity.f90\n",
      "h5pfc   -O -fdefault-real-8 -fdefault-double-8  -c special/meanfield_e_tensor.f90 -o special/meanfield_e_tensor.o\n",
      "mpif90 -O -fdefault-real-8 -fdefault-double-8    -std=f95 -o nochiral.o -c nochiral.f90\n",
      "mpif90 -O -fdefault-real-8 -fdefault-double-8    -std=f95 -o nocosmicray.o -c nocosmicray.f90\n",
      "mpif90 -O -fdefault-real-8 -fdefault-double-8    -std=f95 -o noneutraldensity.o -c noneutraldensity.f90\n",
      "mpif90 -O -fdefault-real-8 -fdefault-double-8    -std=f95 -o nopolymer.o -c nopolymer.f90\n",
      "mpif90 -O -fdefault-real-8 -fdefault-double-8    -std=f95 -o noradiation.o -c noradiation.f90\n",
      "mpif90 -O -fdefault-real-8 -fdefault-double-8    -std=f95 -o noascalar.o -c noascalar.f90\n",
      "mpif90 -O -fdefault-real-8 -fdefault-double-8    -std=f95 -o noneutralvelocity.o -c noneutralvelocity.f90\n",
      "mpif90 -O -fdefault-real-8 -fdefault-double-8    -std=f95 -o nocosmicrayflux.o -c nocosmicrayflux.f90\n",
      "mpif90 -O -fdefault-real-8 -fdefault-double-8    -std=f95 -o nochemistry.o -c nochemistry.f90\n",
      "mpif90 -O -fdefault-real-8 -fdefault-double-8    -std=f95 -o boundcond.o -c boundcond.f90\n",
      "mpif90 -O -fdefault-real-8 -fdefault-double-8    -std=f95 -o nopscalar.o -c nopscalar.f90\n",
      "mpif90 -O -fdefault-real-8 -fdefault-double-8    -std=f95 -o nolsode_for_chemistry.o -c nolsode_for_chemistry.f90\n",
      "mpif90 -O -fdefault-real-8 -fdefault-double-8    -std=f95 -o nodensity.o -c nodensity.f90\n",
      "mpif90 -O -fdefault-real-8 -fdefault-double-8    -std=f95 -o nodetonate.o -c nodetonate.f90\n",
      "mpif90 -O -fdefault-real-8 -fdefault-double-8    -std=f95 -o noviscosity.o -c noviscosity.f90\n",
      "mpif90 -O -fdefault-real-8 -fdefault-double-8    -std=f95 -o noimplicit_physics.o -c noimplicit_physics.f90\n",
      "mpif90 -O -fdefault-real-8 -fdefault-double-8    -std=f95 -o filter.o -c filter.f90\n",
      "mpif90 -O -fdefault-real-8 -fdefault-double-8    -std=f95 -o noNSCBC.o -c noNSCBC.f90\n",
      "mpif90 -O -fdefault-real-8 -fdefault-double-8    -std=f95 -o nodustvelocity.o -c nodustvelocity.f90\n",
      "mpif90 -O -fdefault-real-8 -fdefault-double-8    -std=f95 -o noentropy.o -c noentropy.f90\n",
      "mpif90 -O -fdefault-real-8 -fdefault-double-8    -std=f95 -o noforcing.o -c noforcing.f90\n",
      "mpif90 -O -fdefault-real-8 -fdefault-double-8    -std=f95 -o nodustdensity.o -c nodustdensity.f90\n",
      "mpif90 -O -fdefault-real-8 -fdefault-double-8    -std=f95 -o magnetic.o -c magnetic.f90\n",
      "\u001b[01m\u001b[Kmagnetic.f90:384:0:\u001b[m\u001b[K\n",
      "\n",
      "  384 |       eta_jump_shock, eta_zshock, tau_remove_meanaxy, &\n",
      "      | \n",
      "\u001b[01;35m\u001b[KWarning:\u001b[m\u001b[K Limit of 39 continuations exceeded in statement at (1)\n",
      "mpif90 -O -fdefault-real-8 -fdefault-double-8    -std=f95 -o nosolid_cells.o -c nosolid_cells.f90\n",
      "mpif90 -O -fdefault-real-8 -fdefault-double-8    -std=f95 -o nohydro.o -c nohydro.f90\n",
      "mpif90 -O -fdefault-real-8 -fdefault-double-8    -std=f95 -o nopower_spectrum.o -c nopower_spectrum.f90\n",
      "ar: creating magnetic.a\n",
      "mpif90 -O -fdefault-real-8 -fdefault-double-8    -std=f95 -o notestfield.o -c notestfield.f90\n",
      "mpif90 -O -fdefault-real-8 -fdefault-double-8    -std=f95 -o notestflow.o -c notestflow.f90\n",
      "mpif90 -O -fdefault-real-8 -fdefault-double-8    -std=f95 -o notestscalar.o -c notestscalar.f90\n",
      "mpif90 -O -fdefault-real-8 -fdefault-double-8    -std=f95 -o persist.o -c persist.f90\n",
      "mpif90 -O -fdefault-real-8 -fdefault-double-8    -std=f95 -o slices.o -c slices.f90\n",
      "mpif90 -O -fdefault-real-8 -fdefault-double-8    -std=f95 -o snapshot.o -c snapshot.f90\n",
      "mpif90 -O -fdefault-real-8 -fdefault-double-8    -std=f95 -o equ.o -c equ.f90\n",
      "mpif90 -O -fdefault-real-8 -fdefault-double-8    -std=f95 -o timestep.o -c timestep.f90\n",
      "mpif90 -O -fdefault-real-8 -fdefault-double-8    -std=f95 -o pencil_check.o -c pencil_check.f90\n",
      "mpif90 -O -fdefault-real-8 -fdefault-double-8    -std=f95 -o notestperturb.o -c notestperturb.f90\n",
      "mpif90 -O -fdefault-real-8 -fdefault-double-8    -o param_io.o -c param_io.f90\n",
      "mpif90 -O -fdefault-real-8 -fdefault-double-8    -std=f95 -o register.o -c register.f90\n",
      "mpif90 -O -fdefault-real-8 -fdefault-double-8    -std=f95 -o start.o -c start.f90\n",
      "mpif90 -O -fdefault-real-8 -fdefault-double-8    -std=f95 -o run.o -c run.f90\n",
      "h5pfc nochemistry.o nochiral.o nocosmicray.o nocosmicrayflux.o nodensity.o nodensity_methods.o nodetonate.o nodustdensity.o nodustvelocity.o noentropy.o noeos.o noforcing.o nogravity.o noheatflux.o nohydro.o nohyperresi_strict.o nohypervisc_strict.o noimplicit_physics.o nointerstellar.o nolorenz_gauge.o noneutraldensity.o noneutralvelocity.o noopacity.o nopointmasses.o nopoisson.o nopolymer.o nopscalar.o noradiation.o noselfgravity.o noshear.o noshock.o special/meanfield_e_tensor.o noascalar.o  notestfield.o notestflow.o notestscalar.o noviscosity.o noborder_profiles.o boundcond.o cdata.o cparam.o nodebug.o debug_io_dist.o deriv.o diagnostics.o nofarray_alloc.o farray.o filter.o nofixed_point.o nofourier.o general.o geometrical_types.o ghost_check.o noghostfold.o grid.o nogsl.o noimplicit_diffusion.o initcond.o noinitial_condition.o nohdf5_io.o   io_dist.o file_io_dist.o nolsode_for_chemistry.o messages.o mpicomm_double.o noNSCBC.o param_io.o persist.o nopower_spectrum.o register.o shared_variables.o nosignal_handling.o slices.o slices_methods.o snapshot.o nosolid_cells_mpicomm.o nosolid_cells.o nostreamlines.o nostruct_func.o sub.o syscalls.o syscalls_ansi.o notestperturb.o notimeavg.o noweno_transport.o noyinyang.o noyinyang_mpi.o magnetic.a noparticles_main.a polynomialroots.o nogpu.o start.o -Wl,-O2 -Wl,--sort-common -Wl,--as-needed -Wl,-z,relro -Wl,-z,now -Wl,--disable-new-dtags -Wl,--gc-sections -Wl,-rpath,/u/59/tuomiss1/unix/conda/envs/pencil-dask/lib -Wl,-rpath-link,/u/59/tuomiss1/unix/conda/envs/pencil-dask/lib -L/u/59/tuomiss1/unix/conda/envs/pencil-dask/lib     -o start.x\n",
      "h5pfc nochemistry.o nochiral.o nocosmicray.o nocosmicrayflux.o nodensity.o nodensity_methods.o nodetonate.o nodustdensity.o nodustvelocity.o noentropy.o noeos.o noforcing.o nogravity.o noheatflux.o nohydro.o nohyperresi_strict.o nohypervisc_strict.o noimplicit_physics.o nointerstellar.o nolorenz_gauge.o noneutraldensity.o noneutralvelocity.o noopacity.o nopointmasses.o nopoisson.o nopolymer.o nopscalar.o noradiation.o noselfgravity.o noshear.o noshock.o special/meanfield_e_tensor.o noascalar.o  notestfield.o notestflow.o notestscalar.o noviscosity.o noborder_profiles.o boundcond.o cdata.o cparam.o nodebug.o debug_io_dist.o deriv.o diagnostics.o nofarray_alloc.o farray.o filter.o nofixed_point.o nofourier.o general.o geometrical_types.o ghost_check.o noghostfold.o grid.o nogsl.o noimplicit_diffusion.o initcond.o noinitial_condition.o nohdf5_io.o   io_dist.o file_io_dist.o nolsode_for_chemistry.o messages.o mpicomm_double.o noNSCBC.o param_io.o persist.o nopower_spectrum.o register.o shared_variables.o nosignal_handling.o slices.o slices_methods.o snapshot.o nosolid_cells_mpicomm.o nosolid_cells.o nostreamlines.o nostruct_func.o sub.o syscalls.o syscalls_ansi.o notestperturb.o notimeavg.o noweno_transport.o noyinyang.o noyinyang_mpi.o magnetic.a noparticles_main.a polynomialroots.o nogpu.o  timestep.o equ.o pencil_check.o run.o -Wl,-O2 -Wl,--sort-common -Wl,--as-needed -Wl,-z,relro -Wl,-z,now -Wl,--disable-new-dtags -Wl,--gc-sections -Wl,-rpath,/u/59/tuomiss1/unix/conda/envs/pencil-dask/lib -Wl,-rpath-link,/u/59/tuomiss1/unix/conda/envs/pencil-dask/lib -L/u/59/tuomiss1/unix/conda/envs/pencil-dask/lib       -o run.x\n",
      "make[2]: Leaving directory '/u/59/tuomiss1/unix/resolve/pencil-dask/isotropic_alpha/src'\n",
      "${PENCIL_HOME}/utils/pc_identify_revision\n",
      "make[1]: Leaving directory '/u/59/tuomiss1/unix/resolve/pencil-dask/isotropic_alpha/src'\n"
     ]
    }
   ],
   "source": [
    "# Build the example\n",
    "!cd isotropic_alpha && pc_build"
   ]
  },
  {
   "cell_type": "markdown",
   "id": "1b046b37-fc96-404d-b1dd-caaa970164ad",
   "metadata": {},
   "source": [
    "## Creating meanfield coefficients"
   ]
  },
  {
   "cell_type": "code",
   "execution_count": 6,
   "id": "suspended-flower",
   "metadata": {},
   "outputs": [
    {
     "name": "stdout",
     "output_type": "stream",
     "text": [
      "Warning: pencilnew has moved to pencil.\n",
      "         pencil has moved to pencil_old.\n",
      "To change your scripts accordingly:\n",
      "import pencilnew as pc -> import pencil as pc\n",
      "import pencil as pc -> import pencil_old as pc\n"
     ]
    },
    {
     "data": {
      "text/plain": [
       "True"
      ]
     },
     "execution_count": 6,
     "metadata": {},
     "output_type": "execute_result"
    }
   ],
   "source": [
    "from tools.misc import copy_initial_simulation\n",
    "\n",
    "copy_initial_simulation('isotropic_alpha', 'isotropic_alpha-coefs', overwrite=True)"
   ]
  },
  {
   "cell_type": "code",
   "execution_count": 7,
   "id": "indoor-version",
   "metadata": {},
   "outputs": [
    {
     "name": "stdout",
     "output_type": "stream",
     "text": [
      "Current state:\n",
      "{'start': False, 'run': False}\n"
     ]
    }
   ],
   "source": [
    "from tools.launcher import PencilCodeLauncher\n",
    "\n",
    "pl = PencilCodeLauncher('isotropic_alpha-coefs', verbose=True)"
   ]
  },
  {
   "cell_type": "code",
   "execution_count": 8,
   "id": "purple-context",
   "metadata": {},
   "outputs": [
    {
     "name": "stdout",
     "output_type": "stream",
     "text": [
      "\n"
     ]
    },
    {
     "data": {
      "text/plain": [
       "True"
      ]
     },
     "execution_count": 8,
     "metadata": {},
     "output_type": "execute_result"
    }
   ],
   "source": [
    "pl.start()"
   ]
  },
  {
   "cell_type": "code",
   "execution_count": 11,
   "id": "dfe42548-4ce3-429b-a9bb-7ff5df2701f8",
   "metadata": {},
   "outputs": [
    {
     "name": "stdout",
     "output_type": "stream",
     "text": [
      "Warning: pencilnew has moved to pencil.\n",
      "         pencil has moved to pencil_old.\n",
      "To change your scripts accordingly:\n",
      "import pencilnew as pc -> import pencil as pc\n",
      "import pencil as pc -> import pencil_old as pc\n",
      "--------------------------------------------------------------------------------\n",
      "\n",
      "Creating coefficients:\n",
      "\n",
      "Creating dataset emftensor/alpha/isotropic\n",
      "Creating dataset emftensor/alpha/Steenbeck-Krause-1969-model1\n",
      "Creating dataset emftensor/alpha/Jouve-2008-benchmark\n",
      "Creating dataset emftensor/beta/isotropic\n",
      "Creating dataset emftensor/beta/Jouve-2008-benchmark\n",
      "Creating dataset emftensor/utensor/Steenbeck-Krause-1969-model1\n",
      "Creating dataset emftensor/utensor/Jouve-2008-benchmark\n",
      "\n",
      "--------------------------------------------------------------------------------\n",
      "\n",
      "File has the following structure:\n",
      "\n",
      "  emftensor\n",
      "           alpha\n",
      "                Jouve-2008-benchmark\n",
      "                Steenbeck-Krause-1969-model1\n",
      "                isotropic\n",
      "           beta\n",
      "               Jouve-2008-benchmark\n",
      "               isotropic\n",
      "           utensor\n",
      "                  Jouve-2008-benchmark\n",
      "                  Steenbeck-Krause-1969-model1\n",
      "\n",
      "--------------------------------------------------------------------------------\n"
     ]
    }
   ],
   "source": [
    "!cd isotropic_alpha-coefs && python $PENCIL_HOME/samples/meanfield_special_e_tensor/create_emftensors.py"
   ]
  }
 ],
 "metadata": {
  "kernelspec": {
   "display_name": "Python 3",
   "language": "python",
   "name": "python3"
  },
  "language_info": {
   "codemirror_mode": {
    "name": "ipython",
    "version": 3
   },
   "file_extension": ".py",
   "mimetype": "text/x-python",
   "name": "python",
   "nbconvert_exporter": "python",
   "pygments_lexer": "ipython3",
   "version": "3.9.5"
  }
 },
 "nbformat": 4,
 "nbformat_minor": 5
}
