{
 "cells": [
  {
   "cell_type": "markdown",
   "id": "11d06d53-b8d9-4883-806f-d448407972de",
   "metadata": {},
   "source": [
    "# Launcher test notebook\n",
    "\n",
    "This notebook is a test notebook for running multiple simulations of magnetic mean field in Pencil code."
   ]
  },
  {
   "cell_type": "code",
   "execution_count": 1,
   "id": "manual-middle",
   "metadata": {},
   "outputs": [],
   "source": [
    "# Load autoreload extension for easier development of source code\n",
    "%load_ext autoreload\n",
    "%autoreload 2"
   ]
  },
  {
   "cell_type": "markdown",
   "id": "a74ddfa6-516d-4ecd-a224-441fe6401077",
   "metadata": {},
   "source": [
    "## Get default parameters"
   ]
  },
  {
   "cell_type": "code",
   "execution_count": 2,
   "id": "42d27b0d-0a65-4671-9e07-308d9f197a7d",
   "metadata": {},
   "outputs": [],
   "source": [
    "import f90nml\n",
    "defaults_run_in = f90nml.read('isotropic_alpha/run.in')"
   ]
  },
  {
   "cell_type": "markdown",
   "id": "f4e829c4-1bb8-415c-a5e0-2b615af98904",
   "metadata": {},
   "source": [
    "## Create function that defines the simulation"
   ]
  },
  {
   "cell_type": "code",
   "execution_count": 3,
   "id": "5084dd17-2495-44fe-a9a1-7058ae784de1",
   "metadata": {},
   "outputs": [
    {
     "name": "stdout",
     "output_type": "stream",
     "text": [
      "Warning: pencilnew has moved to pencil.\n",
      "         pencil has moved to pencil_old.\n",
      "To change your scripts accordingly:\n",
      "import pencilnew as pc -> import pencil as pc\n",
      "import pencil as pc -> import pencil_old as pc\n"
     ]
    }
   ],
   "source": [
    "import sacred\n",
    "import os\n",
    "import shutil\n",
    "from tools.launcher import PencilCodeLauncher\n",
    "from tools.misc import copy_initial_simulation"
   ]
  },
  {
   "cell_type": "code",
   "execution_count": 4,
   "id": "2c92b5a7-c825-4b9f-be5a-3fe5bf0a4b12",
   "metadata": {},
   "outputs": [],
   "source": [
    "from sacred import Experiment\n",
    "from sacred.observers import FileStorageObserver\n",
    "\n",
    "ialpha_ex = Experiment(name='isotropic_alpha', interactive=True)\n",
    "\n",
    "ialpha_ex.observers.append(FileStorageObserver('isotropic_alpha_runs'))\n",
    "\n",
    "@ialpha_ex.config\n",
    "def ialpha_config():\n",
    "    nt = 5001\n",
    "    dt = 2.5e-05\n",
    "    alpha = 0.451\n",
    "    \n",
    "@ialpha_ex.capture\n",
    "def ialpha_copy_initial_setup(alpha):\n",
    "    print('Copying simulation directory for alpha={0}'.format(alpha))\n",
    "    copy_initial_simulation('isotropic_alpha', 'isotropic_alpha-{0}'.format(alpha), overwrite=True)\n",
    "\n",
    "@ialpha_ex.capture\n",
    "def ialpha_template_run_in(alpha, nt, dt):\n",
    "    print('Setting run.in for alpha={0}'.format(alpha))\n",
    "    run_in = defaults_run_in.copy()\n",
    "    \n",
    "    run_in['run_pars']['nt'] = nt\n",
    "    run_in['run_pars']['dt'] = dt\n",
    "    run_in['special_run_pars']['alpha_scale'] = alpha\n",
    "    run_in.write(os.path.join('isotropic_alpha-{0}'.format(alpha),'run.in'),\n",
    "                 force=True)\n",
    "    \n",
    "@ialpha_ex.capture\n",
    "def ialpha_start(alpha):\n",
    "    print('Starting simulation for alpha={0}'.format(alpha))\n",
    "    pl = PencilCodeLauncher('isotropic_alpha-{0}'.format(alpha), verbose=True)\n",
    "    pl.start()\n",
    "\n",
    "@ialpha_ex.capture\n",
    "def ialpha_copy_coefs(alpha):\n",
    "    print('Copying coefficients for alpha={0}'.format(alpha))\n",
    "    shutil.copy('emftensors.h5',\n",
    "                os.path.join('isotropic_alpha-{0}'.format(alpha),'data', 'emftensors.h5'))\n",
    "\n",
    "@ialpha_ex.capture\n",
    "def ialpha_run(alpha):\n",
    "    print('Running simulation for alpha={0}'.format(alpha))\n",
    "    pl = PencilCodeLauncher('isotropic_alpha-{0}'.format(alpha), verbose=True)\n",
    "    pl.run()\n",
    "\n",
    "@ialpha_ex.main\n",
    "def ialpha_main():\n",
    "    ialpha_copy_initial_setup()\n",
    "    ialpha_template_run_in()\n",
    "    ialpha_start()\n",
    "    ialpha_copy_coefs()\n",
    "    run_result = ialpha_run()\n",
    "    return run_result"
   ]
  },
  {
   "cell_type": "markdown",
   "id": "f82e1ed9-62d9-43b7-8dcb-6abe94225803",
   "metadata": {},
   "source": [
    "## Single run using sacred"
   ]
  },
  {
   "cell_type": "code",
   "execution_count": 5,
   "id": "17486b17-e8a5-49eb-a1e6-4082a875f34f",
   "metadata": {},
   "outputs": [
    {
     "name": "stderr",
     "output_type": "stream",
     "text": [
      "INFO - isotropic_alpha - Running command 'ialpha_main'\n",
      "INFO - isotropic_alpha - Started run with ID \"2\"\n",
      "INFO - sh.command - <Command '/bin/bash -c pc_start', pid 5717>: process started\n"
     ]
    },
    {
     "name": "stdout",
     "output_type": "stream",
     "text": [
      "Copying simulation directory for alpha=0.2\n",
      "Setting run.in for alpha=0.2\n",
      "Starting simulation for alpha=0.2\n",
      "Current state:\n",
      "{'start': False, 'run': False}\n"
     ]
    },
    {
     "name": "stderr",
     "output_type": "stream",
     "text": [
      "INFO - sh.command - <Command '/bin/bash -c pc_run', pid 5773>: process started\n"
     ]
    },
    {
     "name": "stdout",
     "output_type": "stream",
     "text": [
      "\n",
      "Copying coefficients for alpha=0.2\n",
      "Running simulation for alpha=0.2\n",
      "Current state:\n",
      "{'run': False, 'start': True}\n"
     ]
    },
    {
     "name": "stderr",
     "output_type": "stream",
     "text": [
      "INFO - isotropic_alpha - Completed after 0:00:12\n"
     ]
    },
    {
     "name": "stdout",
     "output_type": "stream",
     "text": [
      "\n"
     ]
    },
    {
     "data": {
      "text/plain": [
       "<sacred.run.Run at 0x7f7d7d3027f0>"
      ]
     },
     "execution_count": 5,
     "metadata": {},
     "output_type": "execute_result"
    }
   ],
   "source": [
    "ialpha_ex.run(config_updates={'alpha': 0.2, 'nt': 1001, 'dt': 2.5e-06})"
   ]
  },
  {
   "cell_type": "markdown",
   "id": "d8bececf-b86c-4cfb-be88-1c0cbe737965",
   "metadata": {},
   "source": [
    "## Multiple runs using pandas"
   ]
  },
  {
   "cell_type": "code",
   "execution_count": 6,
   "id": "f97b5b91-ed3c-4635-9425-d107b5e2a764",
   "metadata": {},
   "outputs": [],
   "source": [
    "import os\n",
    "import numpy as np\n",
    "import pandas as pd\n",
    "import dask.dataframe as dd\n",
    "from dask.dataframe.utils import make_meta"
   ]
  },
  {
   "cell_type": "code",
   "execution_count": 7,
   "id": "tropical-regulation",
   "metadata": {},
   "outputs": [
    {
     "data": {
      "text/html": [
       "<div>\n",
       "<style scoped>\n",
       "    .dataframe tbody tr th:only-of-type {\n",
       "        vertical-align: middle;\n",
       "    }\n",
       "\n",
       "    .dataframe tbody tr th {\n",
       "        vertical-align: top;\n",
       "    }\n",
       "\n",
       "    .dataframe thead th {\n",
       "        text-align: right;\n",
       "    }\n",
       "</style>\n",
       "<table border=\"1\" class=\"dataframe\">\n",
       "  <thead>\n",
       "    <tr style=\"text-align: right;\">\n",
       "      <th></th>\n",
       "      <th>alpha</th>\n",
       "    </tr>\n",
       "  </thead>\n",
       "  <tbody>\n",
       "    <tr>\n",
       "      <th>0</th>\n",
       "      <td>0.40</td>\n",
       "    </tr>\n",
       "    <tr>\n",
       "      <th>1</th>\n",
       "      <td>0.45</td>\n",
       "    </tr>\n",
       "    <tr>\n",
       "      <th>2</th>\n",
       "      <td>0.50</td>\n",
       "    </tr>\n",
       "    <tr>\n",
       "      <th>3</th>\n",
       "      <td>0.55</td>\n",
       "    </tr>\n",
       "    <tr>\n",
       "      <th>4</th>\n",
       "      <td>0.60</td>\n",
       "    </tr>\n",
       "    <tr>\n",
       "      <th>5</th>\n",
       "      <td>0.65</td>\n",
       "    </tr>\n",
       "  </tbody>\n",
       "</table>\n",
       "</div>"
      ],
      "text/plain": [
       "   alpha\n",
       "0   0.40\n",
       "1   0.45\n",
       "2   0.50\n",
       "3   0.55\n",
       "4   0.60\n",
       "5   0.65"
      ]
     },
     "execution_count": 7,
     "metadata": {},
     "output_type": "execute_result"
    }
   ],
   "source": [
    "ialpha_sims = pd.DataFrame({'alpha':np.arange(0.4,0.651,0.05)})\n",
    "ialpha_sims"
   ]
  },
  {
   "cell_type": "code",
   "execution_count": 8,
   "id": "47cf1ef4-1565-415c-bc0d-ba27bf159be7",
   "metadata": {},
   "outputs": [],
   "source": [
    "ialpha_sims['nt'] = int(1000)\n",
    "ialpha_sims['dt'] = 1e-06"
   ]
  },
  {
   "cell_type": "code",
   "execution_count": 9,
   "id": "8ada7bd1-9f51-4873-8950-113ec12e0fee",
   "metadata": {},
   "outputs": [
    {
     "data": {
      "text/html": [
       "<div>\n",
       "<style scoped>\n",
       "    .dataframe tbody tr th:only-of-type {\n",
       "        vertical-align: middle;\n",
       "    }\n",
       "\n",
       "    .dataframe tbody tr th {\n",
       "        vertical-align: top;\n",
       "    }\n",
       "\n",
       "    .dataframe thead th {\n",
       "        text-align: right;\n",
       "    }\n",
       "</style>\n",
       "<table border=\"1\" class=\"dataframe\">\n",
       "  <thead>\n",
       "    <tr style=\"text-align: right;\">\n",
       "      <th></th>\n",
       "      <th>alpha</th>\n",
       "      <th>nt</th>\n",
       "      <th>dt</th>\n",
       "    </tr>\n",
       "  </thead>\n",
       "  <tbody>\n",
       "    <tr>\n",
       "      <th>0</th>\n",
       "      <td>0.40</td>\n",
       "      <td>1000</td>\n",
       "      <td>0.000001</td>\n",
       "    </tr>\n",
       "    <tr>\n",
       "      <th>1</th>\n",
       "      <td>0.45</td>\n",
       "      <td>1000</td>\n",
       "      <td>0.000001</td>\n",
       "    </tr>\n",
       "    <tr>\n",
       "      <th>2</th>\n",
       "      <td>0.50</td>\n",
       "      <td>1000</td>\n",
       "      <td>0.000001</td>\n",
       "    </tr>\n",
       "    <tr>\n",
       "      <th>3</th>\n",
       "      <td>0.55</td>\n",
       "      <td>1000</td>\n",
       "      <td>0.000001</td>\n",
       "    </tr>\n",
       "    <tr>\n",
       "      <th>4</th>\n",
       "      <td>0.60</td>\n",
       "      <td>1000</td>\n",
       "      <td>0.000001</td>\n",
       "    </tr>\n",
       "    <tr>\n",
       "      <th>5</th>\n",
       "      <td>0.65</td>\n",
       "      <td>1000</td>\n",
       "      <td>0.000001</td>\n",
       "    </tr>\n",
       "  </tbody>\n",
       "</table>\n",
       "</div>"
      ],
      "text/plain": [
       "   alpha    nt        dt\n",
       "0   0.40  1000  0.000001\n",
       "1   0.45  1000  0.000001\n",
       "2   0.50  1000  0.000001\n",
       "3   0.55  1000  0.000001\n",
       "4   0.60  1000  0.000001\n",
       "5   0.65  1000  0.000001"
      ]
     },
     "execution_count": 9,
     "metadata": {},
     "output_type": "execute_result"
    }
   ],
   "source": [
    "ialpha_sims"
   ]
  },
  {
   "cell_type": "code",
   "execution_count": 10,
   "id": "459a5ce7-3d07-4344-ab9f-f6ab631a684a",
   "metadata": {},
   "outputs": [
    {
     "name": "stdout",
     "output_type": "stream",
     "text": [
      "{'alpha': 0.4, 'nt': 1000.0, 'dt': 1e-06}\n",
      "{'alpha': 0.45, 'nt': 1000.0, 'dt': 1e-06}\n",
      "{'alpha': 0.5, 'nt': 1000.0, 'dt': 1e-06}\n",
      "{'alpha': 0.55, 'nt': 1000.0, 'dt': 1e-06}\n",
      "{'alpha': 0.6, 'nt': 1000.0, 'dt': 1e-06}\n",
      "{'alpha': 0.6499999999999999, 'nt': 1000.0, 'dt': 1e-06}\n"
     ]
    },
    {
     "data": {
      "text/plain": [
       "0    None\n",
       "1    None\n",
       "2    None\n",
       "3    None\n",
       "4    None\n",
       "5    None\n",
       "dtype: object"
      ]
     },
     "execution_count": 10,
     "metadata": {},
     "output_type": "execute_result"
    }
   ],
   "source": [
    "ialpha_sims.apply(lambda x: print(dict(x)), axis=1)"
   ]
  },
  {
   "cell_type": "code",
   "execution_count": 11,
   "id": "c83c9077-7140-40a0-b66a-2d55b17abb2c",
   "metadata": {},
   "outputs": [
    {
     "name": "stderr",
     "output_type": "stream",
     "text": [
      "WARNING - root - Changed type of config entry \"nt\" from int to float64\n",
      "INFO - isotropic_alpha - Running command 'ialpha_main'\n",
      "INFO - isotropic_alpha - Started run with ID \"3\"\n",
      "INFO - sh.command - <Command '/bin/bash -c pc_start', pid 5854>: process started\n"
     ]
    },
    {
     "name": "stdout",
     "output_type": "stream",
     "text": [
      "Copying simulation directory for alpha=0.4\n",
      "Setting run.in for alpha=0.4\n",
      "Starting simulation for alpha=0.4\n",
      "Current state:\n",
      "{'start': False, 'run': False}\n"
     ]
    },
    {
     "name": "stderr",
     "output_type": "stream",
     "text": [
      "INFO - sh.command - <Command '/bin/bash -c pc_run', pid 5908>: process started\n"
     ]
    },
    {
     "name": "stdout",
     "output_type": "stream",
     "text": [
      "\n",
      "Copying coefficients for alpha=0.4\n",
      "Running simulation for alpha=0.4\n",
      "Current state:\n",
      "{'run': False, 'start': True}\n"
     ]
    },
    {
     "name": "stderr",
     "output_type": "stream",
     "text": [
      "INFO - isotropic_alpha - Completed after 0:00:02\n"
     ]
    },
    {
     "name": "stdout",
     "output_type": "stream",
     "text": [
      "\n"
     ]
    },
    {
     "name": "stderr",
     "output_type": "stream",
     "text": [
      "WARNING - root - Changed type of config entry \"nt\" from int to float64\n",
      "INFO - isotropic_alpha - Running command 'ialpha_main'\n",
      "INFO - isotropic_alpha - Started run with ID \"4\"\n"
     ]
    },
    {
     "name": "stdout",
     "output_type": "stream",
     "text": [
      "Copying simulation directory for alpha=0.45\n",
      "Setting run.in for alpha=0.45\n",
      "Starting simulation for alpha=0.45\n"
     ]
    },
    {
     "name": "stderr",
     "output_type": "stream",
     "text": [
      "INFO - sh.command - <Command '/bin/bash -c pc_start', pid 5962>: process started\n"
     ]
    },
    {
     "name": "stdout",
     "output_type": "stream",
     "text": [
      "Current state:\n",
      "{'start': False, 'run': False}\n"
     ]
    },
    {
     "name": "stderr",
     "output_type": "stream",
     "text": [
      "INFO - sh.command - <Command '/bin/bash -c pc_run', pid 6018>: process started\n"
     ]
    },
    {
     "name": "stdout",
     "output_type": "stream",
     "text": [
      "\n",
      "Copying coefficients for alpha=0.45\n",
      "Running simulation for alpha=0.45\n",
      "Current state:\n",
      "{'run': False, 'start': True}\n"
     ]
    },
    {
     "name": "stderr",
     "output_type": "stream",
     "text": [
      "INFO - isotropic_alpha - Completed after 0:00:01\n"
     ]
    },
    {
     "name": "stdout",
     "output_type": "stream",
     "text": [
      "\n"
     ]
    },
    {
     "name": "stderr",
     "output_type": "stream",
     "text": [
      "WARNING - root - Changed type of config entry \"nt\" from int to float64\n",
      "INFO - isotropic_alpha - Running command 'ialpha_main'\n",
      "INFO - isotropic_alpha - Started run with ID \"5\"\n",
      "INFO - sh.command - <Command '/bin/bash -c pc_start', pid 6072>: process started\n"
     ]
    },
    {
     "name": "stdout",
     "output_type": "stream",
     "text": [
      "Copying simulation directory for alpha=0.5\n",
      "Setting run.in for alpha=0.5\n",
      "Starting simulation for alpha=0.5\n",
      "Current state:\n",
      "{'start': False, 'run': False}\n"
     ]
    },
    {
     "name": "stderr",
     "output_type": "stream",
     "text": [
      "INFO - sh.command - <Command '/bin/bash -c pc_run', pid 6126>: process started\n"
     ]
    },
    {
     "name": "stdout",
     "output_type": "stream",
     "text": [
      "\n",
      "Copying coefficients for alpha=0.5\n",
      "Running simulation for alpha=0.5\n",
      "Current state:\n",
      "{'run': False, 'start': True}\n"
     ]
    },
    {
     "name": "stderr",
     "output_type": "stream",
     "text": [
      "INFO - isotropic_alpha - Completed after 0:00:02\n"
     ]
    },
    {
     "name": "stdout",
     "output_type": "stream",
     "text": [
      "\n"
     ]
    },
    {
     "name": "stderr",
     "output_type": "stream",
     "text": [
      "WARNING - root - Changed type of config entry \"nt\" from int to float64\n",
      "INFO - isotropic_alpha - Running command 'ialpha_main'\n",
      "INFO - isotropic_alpha - Started run with ID \"6\"\n"
     ]
    },
    {
     "name": "stdout",
     "output_type": "stream",
     "text": [
      "Copying simulation directory for alpha=0.55\n"
     ]
    },
    {
     "name": "stderr",
     "output_type": "stream",
     "text": [
      "INFO - sh.command - <Command '/bin/bash -c pc_start', pid 6180>: process started\n"
     ]
    },
    {
     "name": "stdout",
     "output_type": "stream",
     "text": [
      "Setting run.in for alpha=0.55\n",
      "Starting simulation for alpha=0.55\n",
      "Current state:\n",
      "{'start': False, 'run': False}\n"
     ]
    },
    {
     "name": "stderr",
     "output_type": "stream",
     "text": [
      "INFO - sh.command - <Command '/bin/bash -c pc_run', pid 6234>: process started\n"
     ]
    },
    {
     "name": "stdout",
     "output_type": "stream",
     "text": [
      "\n",
      "Copying coefficients for alpha=0.55\n",
      "Running simulation for alpha=0.55\n",
      "Current state:\n",
      "{'run': False, 'start': True}\n"
     ]
    },
    {
     "name": "stderr",
     "output_type": "stream",
     "text": [
      "INFO - isotropic_alpha - Completed after 0:00:02\n"
     ]
    },
    {
     "name": "stdout",
     "output_type": "stream",
     "text": [
      "\n"
     ]
    },
    {
     "name": "stderr",
     "output_type": "stream",
     "text": [
      "WARNING - root - Changed type of config entry \"nt\" from int to float64\n",
      "INFO - isotropic_alpha - Running command 'ialpha_main'\n",
      "INFO - isotropic_alpha - Started run with ID \"7\"\n",
      "INFO - sh.command - <Command '/bin/bash -c pc_start', pid 6288>: process started\n"
     ]
    },
    {
     "name": "stdout",
     "output_type": "stream",
     "text": [
      "Copying simulation directory for alpha=0.6\n",
      "Setting run.in for alpha=0.6\n",
      "Starting simulation for alpha=0.6\n",
      "Current state:\n",
      "{'start': False, 'run': False}\n"
     ]
    },
    {
     "name": "stderr",
     "output_type": "stream",
     "text": [
      "INFO - sh.command - <Command '/bin/bash -c pc_run', pid 6343>: process started\n"
     ]
    },
    {
     "name": "stdout",
     "output_type": "stream",
     "text": [
      "\n",
      "Copying coefficients for alpha=0.6\n",
      "Running simulation for alpha=0.6\n",
      "Current state:\n",
      "{'run': False, 'start': True}\n"
     ]
    },
    {
     "name": "stderr",
     "output_type": "stream",
     "text": [
      "INFO - isotropic_alpha - Completed after 0:00:02\n"
     ]
    },
    {
     "name": "stdout",
     "output_type": "stream",
     "text": [
      "\n"
     ]
    },
    {
     "name": "stderr",
     "output_type": "stream",
     "text": [
      "WARNING - root - Changed type of config entry \"nt\" from int to float64\n",
      "INFO - isotropic_alpha - Running command 'ialpha_main'\n",
      "INFO - isotropic_alpha - Started run with ID \"8\"\n",
      "INFO - sh.command - <Command '/bin/bash -c pc_start', pid 6397>: process started\n"
     ]
    },
    {
     "name": "stdout",
     "output_type": "stream",
     "text": [
      "Copying simulation directory for alpha=0.6499999999999999\n",
      "Setting run.in for alpha=0.6499999999999999\n",
      "Starting simulation for alpha=0.6499999999999999\n",
      "Current state:\n",
      "{'start': False, 'run': False}\n"
     ]
    },
    {
     "name": "stderr",
     "output_type": "stream",
     "text": [
      "INFO - sh.command - <Command '/bin/bash -c pc_run', pid 6452>: process started\n"
     ]
    },
    {
     "name": "stdout",
     "output_type": "stream",
     "text": [
      "\n",
      "Copying coefficients for alpha=0.6499999999999999\n",
      "Running simulation for alpha=0.6499999999999999\n",
      "Current state:\n",
      "{'run': False, 'start': True}\n"
     ]
    },
    {
     "name": "stderr",
     "output_type": "stream",
     "text": [
      "INFO - isotropic_alpha - Completed after 0:00:02\n"
     ]
    },
    {
     "name": "stdout",
     "output_type": "stream",
     "text": [
      "\n"
     ]
    }
   ],
   "source": [
    "ialpha_sims['run'] = ialpha_sims.apply(lambda x: ialpha_ex.run(config_updates=dict(x)), axis=1)"
   ]
  },
  {
   "cell_type": "code",
   "execution_count": 12,
   "id": "cdb9200b-60e7-485d-8b73-660c3ac62cde",
   "metadata": {},
   "outputs": [
    {
     "data": {
      "text/html": [
       "<div>\n",
       "<style scoped>\n",
       "    .dataframe tbody tr th:only-of-type {\n",
       "        vertical-align: middle;\n",
       "    }\n",
       "\n",
       "    .dataframe tbody tr th {\n",
       "        vertical-align: top;\n",
       "    }\n",
       "\n",
       "    .dataframe thead th {\n",
       "        text-align: right;\n",
       "    }\n",
       "</style>\n",
       "<table border=\"1\" class=\"dataframe\">\n",
       "  <thead>\n",
       "    <tr style=\"text-align: right;\">\n",
       "      <th></th>\n",
       "      <th>alpha</th>\n",
       "      <th>nt</th>\n",
       "      <th>dt</th>\n",
       "      <th>run</th>\n",
       "    </tr>\n",
       "  </thead>\n",
       "  <tbody>\n",
       "    <tr>\n",
       "      <th>0</th>\n",
       "      <td>0.40</td>\n",
       "      <td>1000</td>\n",
       "      <td>0.000001</td>\n",
       "      <td>&lt;sacred.run.Run object at 0x7f7d76f95160&gt;</td>\n",
       "    </tr>\n",
       "    <tr>\n",
       "      <th>1</th>\n",
       "      <td>0.45</td>\n",
       "      <td>1000</td>\n",
       "      <td>0.000001</td>\n",
       "      <td>&lt;sacred.run.Run object at 0x7f7d76f4a070&gt;</td>\n",
       "    </tr>\n",
       "    <tr>\n",
       "      <th>2</th>\n",
       "      <td>0.50</td>\n",
       "      <td>1000</td>\n",
       "      <td>0.000001</td>\n",
       "      <td>&lt;sacred.run.Run object at 0x7f7d76f42880&gt;</td>\n",
       "    </tr>\n",
       "    <tr>\n",
       "      <th>3</th>\n",
       "      <td>0.55</td>\n",
       "      <td>1000</td>\n",
       "      <td>0.000001</td>\n",
       "      <td>&lt;sacred.run.Run object at 0x7f7d76f4ab80&gt;</td>\n",
       "    </tr>\n",
       "    <tr>\n",
       "      <th>4</th>\n",
       "      <td>0.60</td>\n",
       "      <td>1000</td>\n",
       "      <td>0.000001</td>\n",
       "      <td>&lt;sacred.run.Run object at 0x7f7d7c72aa90&gt;</td>\n",
       "    </tr>\n",
       "    <tr>\n",
       "      <th>5</th>\n",
       "      <td>0.65</td>\n",
       "      <td>1000</td>\n",
       "      <td>0.000001</td>\n",
       "      <td>&lt;sacred.run.Run object at 0x7f7d76f000d0&gt;</td>\n",
       "    </tr>\n",
       "  </tbody>\n",
       "</table>\n",
       "</div>"
      ],
      "text/plain": [
       "   alpha    nt        dt                                        run\n",
       "0   0.40  1000  0.000001  <sacred.run.Run object at 0x7f7d76f95160>\n",
       "1   0.45  1000  0.000001  <sacred.run.Run object at 0x7f7d76f4a070>\n",
       "2   0.50  1000  0.000001  <sacred.run.Run object at 0x7f7d76f42880>\n",
       "3   0.55  1000  0.000001  <sacred.run.Run object at 0x7f7d76f4ab80>\n",
       "4   0.60  1000  0.000001  <sacred.run.Run object at 0x7f7d7c72aa90>\n",
       "5   0.65  1000  0.000001  <sacred.run.Run object at 0x7f7d76f000d0>"
      ]
     },
     "execution_count": 12,
     "metadata": {},
     "output_type": "execute_result"
    }
   ],
   "source": [
    "ialpha_sims"
   ]
  },
  {
   "cell_type": "code",
   "execution_count": null,
   "id": "490a1b71-71a7-40be-80ec-92d22f2171b7",
   "metadata": {},
   "outputs": [],
   "source": []
  }
 ],
 "metadata": {
  "kernelspec": {
   "display_name": "Python 3",
   "language": "python",
   "name": "python3"
  },
  "language_info": {
   "codemirror_mode": {
    "name": "ipython",
    "version": 3
   },
   "file_extension": ".py",
   "mimetype": "text/x-python",
   "name": "python",
   "nbconvert_exporter": "python",
   "pygments_lexer": "ipython3",
   "version": "3.9.5"
  }
 },
 "nbformat": 4,
 "nbformat_minor": 5
}
